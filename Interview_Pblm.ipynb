{
  "nbformat": 4,
  "nbformat_minor": 0,
  "metadata": {
    "colab": {
      "provenance": [],
      "authorship_tag": "ABX9TyMEFXtO68pLc4mg/HwBbKzD",
      "include_colab_link": true
    },
    "kernelspec": {
      "name": "python3",
      "display_name": "Python 3"
    },
    "language_info": {
      "name": "python"
    }
  },
  "cells": [
    {
      "cell_type": "markdown",
      "metadata": {
        "id": "view-in-github",
        "colab_type": "text"
      },
      "source": [
        "<a href=\"https://colab.research.google.com/github/Udhay2898/Python-Programming/blob/Master/Interview_Pblm.ipynb\" target=\"_parent\"><img src=\"https://colab.research.google.com/assets/colab-badge.svg\" alt=\"Open In Colab\"/></a>"
      ]
    },
    {
      "cell_type": "markdown",
      "source": [
        "**Write a program to print the given number is odd or even**"
      ],
      "metadata": {
        "id": "2Z6qPTQ4RzOq"
      }
    },
    {
      "cell_type": "code",
      "execution_count": 4,
      "metadata": {
        "colab": {
          "base_uri": "https://localhost:8080/"
        },
        "id": "HXdIWYKPRrj-",
        "outputId": "2da64a4c-17d3-4d92-b5c1-deeb0b9f7092"
      },
      "outputs": [
        {
          "output_type": "stream",
          "name": "stdout",
          "text": [
            "Enter the Number : 22\n",
            "22 is Even\n"
          ]
        }
      ],
      "source": [
        "n = int(input(\"Enter the Number : \"))\n",
        "if n % 2 == 0:\n",
        "  print(f'{n} is Even')\n",
        "else:\n",
        "  print(f'{n} is Odd')"
      ]
    },
    {
      "cell_type": "markdown",
      "source": [
        "**Write a program to find the given number is positive or negative**"
      ],
      "metadata": {
        "id": "_HA2WcoCRybH"
      }
    },
    {
      "cell_type": "code",
      "source": [
        "n = int(input(\"Enter the Number : \"))\n",
        "if n == 0:\n",
        "  print(f'{n} is Zero')\n",
        "elif n > 0:\n",
        "  print(f'{n} is +ve')\n",
        "else:\n",
        "  print(f'{n} is -ve')"
      ],
      "metadata": {
        "colab": {
          "base_uri": "https://localhost:8080/"
        },
        "id": "pp7X1nXeSY98",
        "outputId": "12716910-0bbd-40ed-a8e3-fb60923e1474"
      },
      "execution_count": 8,
      "outputs": [
        {
          "output_type": "stream",
          "name": "stdout",
          "text": [
            "Enter the Number : 12\n",
            "12 is +ve\n"
          ]
        }
      ]
    },
    {
      "cell_type": "markdown",
      "source": [
        "**Write a program to find the sum of two numbers**"
      ],
      "metadata": {
        "id": "tCI1QEUKTJhq"
      }
    },
    {
      "cell_type": "code",
      "source": [
        "a = int(input(\"Enter the Number 1 : \"))\n",
        "b = int(input(\"Enter the Number 2 : \"))\n",
        "\n",
        "print(f'{a} + {b} = {a+b}')"
      ],
      "metadata": {
        "colab": {
          "base_uri": "https://localhost:8080/"
        },
        "id": "L4iSw9qGS1wW",
        "outputId": "a14ed128-7651-441c-99a9-a0b511e9bb8b"
      },
      "execution_count": 10,
      "outputs": [
        {
          "output_type": "stream",
          "name": "stdout",
          "text": [
            "Enter the Number 1 : 1\n",
            "Enter the Number 2 : 3\n",
            "1 + 3 = 4\n"
          ]
        }
      ]
    },
    {
      "cell_type": "markdown",
      "source": [
        "**Write a program to find if the given number is prime or not**"
      ],
      "metadata": {
        "id": "fzoMM_yWTq2I"
      }
    },
    {
      "cell_type": "code",
      "source": [
        "num = int(input(\"enter a number: \"))\n",
        "flag = False\n",
        "if num > 1:\n",
        "    for i in range(2, num):\n",
        "        if (num % i) == 0:\n",
        "            flag = True\n",
        "            break\n",
        "\n",
        "if flag:\n",
        "    print(num, \"is not a prime number\")\n",
        "else:\n",
        "    print(num, \"is a prime number\")"
      ],
      "metadata": {
        "colab": {
          "base_uri": "https://localhost:8080/"
        },
        "id": "_RnV3xfWTAtq",
        "outputId": "5c8a309a-0ff0-480c-e167-97faa55c8e65"
      },
      "execution_count": 18,
      "outputs": [
        {
          "output_type": "stream",
          "name": "stdout",
          "text": [
            "enter a number: 23\n",
            "23 is a prime number\n"
          ]
        }
      ]
    },
    {
      "cell_type": "markdown",
      "source": [
        "**Write a program to check if the given number is palindrome or not**"
      ],
      "metadata": {
        "id": "PxWIAIiJXBLG"
      }
    },
    {
      "cell_type": "code",
      "source": [
        "n = str(input('N :'))\n",
        "n1 = n[::-1]\n",
        "if n == n1:\n",
        "  print(f'{n} is palindrome')\n",
        "else:\n",
        "  print(f'{n} is non palindrome')"
      ],
      "metadata": {
        "colab": {
          "base_uri": "https://localhost:8080/"
        },
        "id": "A5s-LPY3Tlqn",
        "outputId": "240e2dc6-eef3-49a4-c1bd-7dca4ad4e26c"
      },
      "execution_count": 22,
      "outputs": [
        {
          "output_type": "stream",
          "name": "stdout",
          "text": [
            "N :002\n",
            "002 is non palindrome\n"
          ]
        }
      ]
    },
    {
      "cell_type": "markdown",
      "source": [
        "**Write a program to check if the given number is Armstrong or not**"
      ],
      "metadata": {
        "id": "ZcTMd2qwYSUq"
      }
    },
    {
      "cell_type": "code",
      "source": [
        "n = int(input('Enter the Number :'))\n",
        "n = str(n)\n",
        "a = 0\n",
        "for i in n:\n",
        "  a += int(i)**len(str(n))\n",
        "if a == n:\n",
        "  print(f'{n} is an Armstrong')\n",
        "else:\n",
        "  print(f'{n} is Not an Armstrong')"
      ],
      "metadata": {
        "colab": {
          "base_uri": "https://localhost:8080/"
        },
        "id": "2CfGzmRzXoFb",
        "outputId": "78f805df-4dbd-498f-e94a-dead01c3b154"
      },
      "execution_count": 37,
      "outputs": [
        {
          "output_type": "stream",
          "name": "stdout",
          "text": [
            "Enter the Number :9474\n",
            "9474 is Not an Armstrong\n"
          ]
        }
      ]
    },
    {
      "cell_type": "markdown",
      "source": [
        "**Write a program to check if the given strings are anagram or not**"
      ],
      "metadata": {
        "id": "8HfX1fFFa0Bx"
      }
    },
    {
      "cell_type": "code",
      "source": [
        "str1 = str(input('Enter the string :'))\n",
        "str2 = str(input('Enter the string :'))\n",
        "\n",
        "str1 = str1.replace(' ','').lower()\n",
        "str2 = str2.replace(' ','').lower()\n",
        "\n",
        "if sorted(str1) == sorted(str2):\n",
        "  print(f'{str1} and {str2} are Anagram', 'Each letter used only once in both Words')\n",
        "else:\n",
        "  print(f'{str1} and {str2} are not an Anagram')"
      ],
      "metadata": {
        "colab": {
          "base_uri": "https://localhost:8080/"
        },
        "id": "_chbisbDY-IN",
        "outputId": "7a09d1b7-e36e-4351-bc93-a6312850b6b3"
      },
      "execution_count": 40,
      "outputs": [
        {
          "output_type": "stream",
          "name": "stdout",
          "text": [
            "Enter the string :Astronomer\n",
            "Enter the string :stonomerar\n",
            "astronomer and stonomerar are Anagram Each letter used only once in both Words\n"
          ]
        }
      ]
    },
    {
      "cell_type": "markdown",
      "source": [
        "**Write a program to find a factorial of a number.**"
      ],
      "metadata": {
        "id": "fSuDmUlidD_q"
      }
    },
    {
      "cell_type": "code",
      "source": [
        "num = int(input(\"Enter a number: \"))\n",
        "# 7\n",
        "factorial = 1\n",
        "if num < 0:\n",
        "   print(\"Sorry, factorial does not exist for negative numbers\")\n",
        "elif num == 0:\n",
        "   print(\"The factorial of 0 is 1\")\n",
        "else:\n",
        "   for i in range(1,num + 1):\n",
        "       factorial = factorial*i\n",
        "   print(\"The factorial of\",num,\"is\",factorial)"
      ],
      "metadata": {
        "id": "ql4KEENZcbi4"
      },
      "execution_count": null,
      "outputs": []
    },
    {
      "cell_type": "code",
      "source": [],
      "metadata": {
        "id": "PY71pk-1fUG4"
      },
      "execution_count": null,
      "outputs": []
    }
  ]
}