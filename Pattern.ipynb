{
  "nbformat": 4,
  "nbformat_minor": 0,
  "metadata": {
    "colab": {
      "provenance": [],
      "authorship_tag": "ABX9TyNBaMEKRTy9bzFEJLdgXSA6",
      "include_colab_link": true
    },
    "kernelspec": {
      "name": "python3",
      "display_name": "Python 3"
    },
    "language_info": {
      "name": "python"
    }
  },
  "cells": [
    {
      "cell_type": "markdown",
      "metadata": {
        "id": "view-in-github",
        "colab_type": "text"
      },
      "source": [
        "<a href=\"https://colab.research.google.com/github/Udhay2898/Python-Programming/blob/Master/Pattern.ipynb\" target=\"_parent\"><img src=\"https://colab.research.google.com/assets/colab-badge.svg\" alt=\"Open In Colab\"/></a>"
      ]
    },
    {
      "cell_type": "markdown",
      "source": [
        "**While loop**"
      ],
      "metadata": {
        "id": "p94Pa3Cu2N_f"
      }
    },
    {
      "cell_type": "markdown",
      "source": [
        "**Print Squre Pattern**"
      ],
      "metadata": {
        "id": "NjnqI8tz6aMx"
      }
    },
    {
      "cell_type": "code",
      "execution_count": 13,
      "metadata": {
        "colab": {
          "base_uri": "https://localhost:8080/"
        },
        "id": "lRycuUYR2DYO",
        "outputId": "48e7067a-b46d-40ce-d5f0-f0a7dc79ec82"
      },
      "outputs": [
        {
          "output_type": "stream",
          "name": "stdout",
          "text": [
            "Enter the Number : 3\n",
            "* * * \n",
            "* * * \n",
            "* * * \n"
          ]
        }
      ],
      "source": [
        "n = int(input(\"Enter the Number : \"))\n",
        "for i in range(0,n):\n",
        "  for j in range(0,n):\n",
        "    print('*',end=' ')\n",
        "  print()"
      ]
    },
    {
      "cell_type": "markdown",
      "source": [
        "**Hollow Square**"
      ],
      "metadata": {
        "id": "Yeke2q357baR"
      }
    },
    {
      "cell_type": "code",
      "source": [
        "def hollow_square():\n",
        "\n",
        "    n = int(input(\"Enter the Size of Square: \"))\n",
        "    for i in range(n):\n",
        "        for j in range(n):\n",
        "            if i == 0 or i == n - 1 or j == 0 or j == n - 1:\n",
        "                print('*', end=' ')\n",
        "            else:\n",
        "                print(' ', end=' ')\n",
        "        print()\n",
        "\n",
        "hollow_square()\n"
      ],
      "metadata": {
        "colab": {
          "base_uri": "https://localhost:8080/"
        },
        "id": "FvMkm1Bz7Kv_",
        "outputId": "02c14c5f-9ae8-461b-e3ad-4d0504e12cb8"
      },
      "execution_count": 25,
      "outputs": [
        {
          "output_type": "stream",
          "name": "stdout",
          "text": [
            "Enter the Size of Square: 3\n",
            "* * * \n",
            "*   * \n",
            "* * * \n"
          ]
        }
      ]
    },
    {
      "cell_type": "markdown",
      "source": [
        "**Left Triangel**"
      ],
      "metadata": {
        "id": "EBbw917g-BTU"
      }
    },
    {
      "cell_type": "code",
      "source": [
        "n = 5\n",
        "for i in range(n + 1):\n",
        "  for j in range(1,i+1):\n",
        "    print('*',end=' ')\n",
        "  print()"
      ],
      "metadata": {
        "colab": {
          "base_uri": "https://localhost:8080/"
        },
        "id": "19P1nzpk8goe",
        "outputId": "5f0d7b7f-42d9-4cce-b32a-6effddf70a25"
      },
      "execution_count": 60,
      "outputs": [
        {
          "output_type": "stream",
          "name": "stdout",
          "text": [
            "\n",
            "* \n",
            "* * \n",
            "* * * \n",
            "* * * * \n",
            "* * * * * \n"
          ]
        }
      ]
    },
    {
      "cell_type": "code",
      "source": [
        "n = 5\n",
        "for i in range(n + 1):\n",
        "    for j in range(n - i):\n",
        "        print(' ', end=' ')\n",
        "    for k in range(i):\n",
        "        print('*', end=' ')\n",
        "    print()\n"
      ],
      "metadata": {
        "colab": {
          "base_uri": "https://localhost:8080/"
        },
        "id": "aLxVon1I-duV",
        "outputId": "fe3e4998-f0d9-4a3b-e1b9-2e63aaaf4f48"
      },
      "execution_count": 62,
      "outputs": [
        {
          "output_type": "stream",
          "name": "stdout",
          "text": [
            "          \n",
            "        * \n",
            "      * * \n",
            "    * * * \n",
            "  * * * * \n",
            "* * * * * \n"
          ]
        }
      ]
    },
    {
      "cell_type": "markdown",
      "source": [
        "**Pyramid**"
      ],
      "metadata": {
        "id": "YFHax3HqD44K"
      }
    },
    {
      "cell_type": "code",
      "source": [
        "n=5\n",
        "for i in range(n):\n",
        "  for j in range(n-i-1):\n",
        "    print('',end=' ')\n",
        "  for k in range(2*i+1):\n",
        "    print('*',end='')\n",
        "  print()\n"
      ],
      "metadata": {
        "colab": {
          "base_uri": "https://localhost:8080/"
        },
        "id": "f9VSHdPN_TmF",
        "outputId": "b6af19ab-bda5-442e-d562-a17e8336dc94"
      },
      "execution_count": 65,
      "outputs": [
        {
          "output_type": "stream",
          "name": "stdout",
          "text": [
            "    *\n",
            "   ***\n",
            "  *****\n",
            " *******\n",
            "*********\n"
          ]
        }
      ]
    },
    {
      "cell_type": "code",
      "source": [
        "n=5\n",
        "for i in range(n, 0, -1):\n",
        "    for j in range(n - i):\n",
        "        print(' ', end=' ')\n",
        "    for k in range(2 * i - 1):\n",
        "        print('*', end=' ')\n",
        "    print()"
      ],
      "metadata": {
        "colab": {
          "base_uri": "https://localhost:8080/"
        },
        "id": "gxJWLX0zFHm0",
        "outputId": "4f710aff-5626-43d2-c065-ddabe557361b"
      },
      "execution_count": 66,
      "outputs": [
        {
          "output_type": "stream",
          "name": "stdout",
          "text": [
            "* * * * * * * * * \n",
            "  * * * * * * * \n",
            "    * * * * * \n",
            "      * * * \n",
            "        * \n"
          ]
        }
      ]
    }
  ]
}